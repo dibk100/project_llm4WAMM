{
 "cells": [
  {
   "cell_type": "markdown",
   "id": "a9f4fc0c",
   "metadata": {},
   "source": [
    "# 데이터 전처리"
   ]
  },
  {
   "cell_type": "code",
   "execution_count": null,
   "id": "7e0d38aa",
   "metadata": {},
   "outputs": [
    {
     "name": "stdout",
     "output_type": "stream",
     "text": [
      "전처리 완료 및 저장 완료.\n"
     ]
    }
   ],
   "source": [
    "import json\n",
    "\n",
    "# 1. JSON 파일 불러오기\n",
    "with open('./data/train_waam_cls_inst_p1.json', 'r', encoding='utf-8') as f:\n",
    "    data = json.load(f)\n",
    "\n",
    "# 2. 전처리 \n",
    "def preprocess(data):\n",
    "    processed = []\n",
    "    for item in data:\n",
    "        input_text = item.get(\"input\", \"\")\n",
    "        output_labels = item.get(\"output\", \"\")\n",
    "        # 'or'로 나누고 양쪽 공백 제거\n",
    "        label_list = [label.strip() for label in output_labels.split(\" or \")]\n",
    "        processed.append({\n",
    "            \"text\": input_text,\n",
    "            \"label\": label_list\n",
    "        })\n",
    "    return processed\n",
    "\n",
    "processed_data = preprocess(data)\n",
    "\n",
    "# 3. 전처리된 데이터 저장\n",
    "with open('./data/bert_train_waam_cls_p1.json', 'w', encoding='utf-8') as f:\n",
    "    json.dump(processed_data, f, ensure_ascii=False, indent=4)\n",
    "\n",
    "print(\"전처리 완료 및 저장 완료.\")\n"
   ]
  },
  {
   "cell_type": "code",
   "execution_count": null,
   "id": "2e4ed92f",
   "metadata": {},
   "outputs": [
    {
     "name": "stdout",
     "output_type": "stream",
     "text": [
      "전처리 완료 및 저장 완료.\n"
     ]
    }
   ],
   "source": [
    "# import json\n",
    "\n",
    "# # 1. JSON 파일 불러오기\n",
    "# with open('./data/test_waam_cls_inst_p1.json', 'r', encoding='utf-8') as f:\n",
    "#     data = json.load(f)\n",
    "\n",
    "# # 2. 전처리 \n",
    "# def preprocess(data):\n",
    "#     processed = []\n",
    "#     for item in data:\n",
    "#         input_text = item.get(\"input\", \"\")\n",
    "#         output_labels = item.get(\"output\", \"\")\n",
    "#         # 'or'로 나누고 양쪽 공백 제거\n",
    "#         label_list = [label.strip() for label in output_labels.split(\" or \")]\n",
    "#         processed.append({\n",
    "#             \"text\": input_text,\n",
    "#             \"label\": label_list\n",
    "#         })\n",
    "#     return processed\n",
    "\n",
    "# processed_data = preprocess(data)\n",
    "\n",
    "# # 3. 전처리된 데이터 저장\n",
    "# with open('./data/bert_test_waam_cls_p1.json', 'w', encoding='utf-8') as f:\n",
    "#     json.dump(processed_data, f, ensure_ascii=False, indent=4)\n",
    "\n",
    "# print(\"전처리 완료 및 저장 완료.\")\n"
   ]
  },
  {
   "cell_type": "code",
   "execution_count": null,
   "id": "d4c214c7",
   "metadata": {},
   "outputs": [],
   "source": []
  },
  {
   "cell_type": "code",
   "execution_count": null,
   "id": "bac30e37",
   "metadata": {},
   "outputs": [],
   "source": []
  }
 ],
 "metadata": {
  "kernelspec": {
   "display_name": "dibk311",
   "language": "python",
   "name": "python3"
  },
  "language_info": {
   "codemirror_mode": {
    "name": "ipython",
    "version": 3
   },
   "file_extension": ".py",
   "mimetype": "text/x-python",
   "name": "python",
   "nbconvert_exporter": "python",
   "pygments_lexer": "ipython3",
   "version": "3.11.11"
  }
 },
 "nbformat": 4,
 "nbformat_minor": 5
}
